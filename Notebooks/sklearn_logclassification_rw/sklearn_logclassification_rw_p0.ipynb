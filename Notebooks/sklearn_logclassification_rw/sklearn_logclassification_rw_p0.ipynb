{
 "cells": [
  {
   "cell_type": "markdown",
   "metadata": {},
   "source": [
    "# Fairness in IBM FL: Scikitlearn Logistic Classification"
   ]
  },
  {
   "cell_type": "markdown",
   "metadata": {},
   "source": [
    "## Outline:\n",
    "- [Add conda environment to Jupyter Notebook](#setup)\n",
    "- [FL and Fairness](#intro)\n",
    "- [Parties](#Parties)\n",
    "    - [Party Configuration](#Party-Configuration)\n",
    "    - [Party Setup](#Party-Setup)\n",
    "- [Register All Parties Before Starting Training](#Register-All-Parties-Before-Starting-Training)\n",
    "- [Visualize Results](#Visualize-Results)\n",
    "- [Shut Down](#Shut-Down)"
   ]
  },
  {
   "cell_type": "markdown",
   "metadata": {},
   "source": [
    "## Add conda environment to Jupyter Notebook <a name=\"setup\"></a>\n",
    "\n",
    "Please ensure that you have activated the `conda` environment following the instructions in the project README.\n",
    "\n",
    "Once done, run the following commands in your terminal to install your conda environment into the Jupyter Notebook:\n",
    "\n",
    "1. Once you have activated the conda environment, install the `ipykernel` package: `conda install -c anaconda ipykernel`\n",
    "\n",
    "2. Next, install the `ipykernel` module within Jupyter Notebook: `python -m ipykernel install --user --name=<conda_env>`\n",
    "\n",
    "3. Finally, restart the jupyter notebook once done. Ensure that you are running this Notebook from `<project_path>/examples/sklearn_logclassification`, where project_path is the directory where the IBMFL repository was cloned.\n",
    "\n",
    "When the Notebook is up and running it may prompt you to choose the kernel. Use the drop down to choose the kernel name same as that chosen when running `conda activate <conda_env>`. If no prompt shows up, you can change the kernel by clicking _Kernel_ > _Change kernel_ > _`<conda_env>`_."
   ]
  },
  {
   "cell_type": "markdown",
   "metadata": {},
   "source": [
    "## Federated Learning (FL) <a name=\"intro\"></a>\n",
    "\n",
    "**Federated Learning (FL)** is a distributed machine learning process in which each participant node (or party) retains their data locally and interacts with  other participants via a learning protocol. In this notebook, we demonstrate the adaption and usage of popular bias mitigation techniques for FL. We examine bias from the perspective of social fairness, as opposed to contribution fairness.\n",
    "\n",
    "Bias mitigation approaches in machine learning mainly measure and reduce undesired bias with respect to a *sensitive attribute*, such as *age* or *race*, in the training dataset.\n",
    "\n",
    "We utilize [IBM FL](https://github.com/IBM/federated-learning-lib) to have multiple parties train a classifier to predict whether a person in the [Adult dataset](http://archive.ics.uci.edu/ml/datasets/Adult) makes over $50,000 a year. We have adapted 2 centralized fairness methods, Reweighing and Prejudice Remover, into 3 federated learning bias mitigation methods: Local Reweighing, Global Reweighing with Differential Privacy, and Federated Prejudice Removal.\n",
    "\n",
    "For a more technical dive into IBM FL, refer the whitepaper [here](https://arxiv.org/pdf/2007.10987.pdf)."
   ]
  },
  {
   "cell_type": "markdown",
   "metadata": {},
   "source": [
    "## Fairness Techniques <a name=\"fairness\"></a>\n",
    "\n",
    "[Reweighing](https://link.springer.com/article/10.1007/s10115-011-0463-8) is a centralized pre-processing bias mitigation method, which works primarily by attaching weights to samples in the training dataset. This method accesses the entire training dataset and computes weights as the ratio of the expected probability to the observed probability of the sample, calculated based on the sensitive attribute/label pairing in question. We adapt this centralized method into two federated learning techniques, Local Reweighing and Global Reweighing with Differential Privacy.\n",
    "\n",
    "**Local reweighing**: To fully protect parties' data privacy, each party computes reweighing weights locally based on its own training dataset during pre-processing and then uses the reweighing dataset for its local training. Therefore, parties do not need to communicate with the aggregator or reveal their sensitive attributes and data sample information.\n",
    "\n",
    "**Global Reweighing with Differential Privacy**: If parties agree to share sensitive attributes and noisy data statistics, parties can employ this fairness method. During the pre-processing phase, the aggregator will collect statistics such as the noisy number of samples with privileged attribute values, compute global reweighing weights  based on the collected statistics, and share them with parties. By adjusting the amount of noise injected via epsilon, parties can control their data leakage while still mitigating bias. \n",
    "\n",
    "[Prejudice Remover](https://github.com/algofairness/fairness-comparison/tree/master/fairness/algorithms/kamishima) is an in-processing bias mitigation method 440 proposed for centralized ML, which works by adding a fairness-aware regularizer to the regular logistic loss function. We adapt this centralized method into Federated Prejudice Remover.\n",
    "\n",
    "**Federated Prejudice Removal**: Each party applies the Prejudice Remover algorithm to train a less biased local model, and shares only the model parameters with the aggregator. The aggregator can then employ existing FL algorithms, like simple average and FedAvg, etc., to update the global model.\n",
    "\n",
    "Further details about the algorithms and datasets utilized, as well as experimental setup, are included in our [paper](https://arxiv.org/abs/2012.02447)."
   ]
  },
  {
   "cell_type": "markdown",
   "metadata": {},
   "source": [
    "## Fairness Metrics <a name=\"mnist\"></a>\n",
    "\n",
    "In fairness evaluation, there is no single, all-inclusive metric. Literature uses multiple metrics to measure several aspects, painting a composition of fairness. We use four highly-utilized fairness metrics: Statistical Parity Difference, Equal Odds Difference, Average Odds Difference, and Disparate Impact.\n",
    "\n",
    "**Statistical Parity Difference**: Calculated as the ratio of the success rate between the unprivileged and privileged groups. The ideal value for this metric is 0, and the fairness range is between -0.1 and 0.1, as defined by [AI Fairness 360](https://aif360.mybluemix.net/).\n",
    "\n",
    "**Equal Odds Difference**: Calculated as the true positive rate difference between the unprivileged and privileged groups. The ideal value for this metric is 0, and the fairness range is between -0.1 and 0.1, similarly defined by AI Fairness 360.\n",
    "\n",
    "**Average Odds Difference**: Calculated as the mean of the false positive rate difference and the true positive rate difference, both between the unprivileged and privileged groups. The ideal value for this metric is 0, and the fairness range is between -0.1 and 0.1, similarly defined by AI Fairness 360.\n",
    "\n",
    "**Disparate Impact**: Calculated as the difference of the success rate between the unprivileged and privileged groups. The ideal value for this metric is 1, and the fairness range is between 0.8 and 1.2, similarly defined by AI Fairness 360."
   ]
  },
  {
   "cell_type": "markdown",
   "metadata": {},
   "source": [
    "### Getting things ready\n",
    "We begin by setting the number of parties that will participate in the federated learning run and splitting up the data among them."
   ]
  },
  {
   "cell_type": "code",
   "execution_count": 1,
   "metadata": {},
   "outputs": [],
   "source": [
    "import sys\n",
    "party_id = 0\n",
    "\n",
    "sys.path.append('../..')\n",
    "import os\n",
    "os.chdir(\"../..\")\n",
    "\n",
    "num_parties = 2  ## number of participating parties\n",
    "dataset = 'adult'"
   ]
  },
  {
   "cell_type": "markdown",
   "metadata": {},
   "source": [
    "## Parties\n",
    "\n",
    "Each party holds its own dataset that is kept to itself and used to answer queries received from the aggregator. Because each party may have stored data in different formats, FL offers an abstraction called Data Handler. This module allows for custom implementations to retrieve the data from each of the participating parties. A local training handler sits at each party to control the local training happening at the party side. "
   ]
  },
  {
   "cell_type": "markdown",
   "metadata": {},
   "source": [
    "### Party Configuration\n",
    "\n",
    "**Note**: in a typical FL setting, the parties may have very different configurations from each other. However, in this simplified example, the config does not differ much across parties. So, we first setup the configuration common to both parties, in the next cell. We discuss the parameters that are specific to each, in subsequent cells."
   ]
  },
  {
   "cell_type": "markdown",
   "metadata": {},
   "source": [
    "<img src=\"../images/arch_party.png\" width=\"680\"/>\n",
    "<figcaption><center>Image Source: <a href=\"https://arxiv.org/pdf/2007.10987.pdf\">IBM Federated Learning: An Enterprise FrameworkWhite Paper V0.1</a></center></figcaption>"
   ]
  },
  {
   "cell_type": "markdown",
   "metadata": {},
   "source": [
    "### Party Setup\n",
    "In the following cell, we setup configurations for parties, including network-level details, hyperparameters as well as the model specifications. Please note that if you are running this notebook in distributed environment on separate nodes then you need to split the data locally and obtain the model h5 generated by the Aggregator."
   ]
  },
  {
   "cell_type": "markdown",
   "metadata": {},
   "source": []
  },
  {
   "cell_type": "code",
   "execution_count": 2,
   "metadata": {
    "scrolled": false
   },
   "outputs": [],
   "source": [
    "def get_party_config(party_id):\n",
    "    party_config = {\n",
    "        'aggregator':\n",
    "            {\n",
    "                'ip': '127.0.0.1',\n",
    "                'port': 5000\n",
    "            },\n",
    "        'connection': {\n",
    "            'info': {\n",
    "                'ip': '127.0.0.1',\n",
    "                'port': 8085 + party_id,\n",
    "                'id': 'party' + str(party_id),\n",
    "                'tls_config': {\n",
    "                    'enable': False\n",
    "                }\n",
    "            },\n",
    "            'name': 'FlaskConnection',\n",
    "            'path': 'ibmfl.connection.flask_connection',\n",
    "            'sync': False\n",
    "        },\n",
    "        'data': {\n",
    "            'info': {\n",
    "                'txt_file': 'examples/data/adult/random/data_party'+ str(party_id) +'.csv'\n",
    "            },\n",
    "            'name': 'AdultSklearnDataHandler',\n",
    "            'path': 'ibmfl.util.data_handlers.adult_sklearn_data_handler'\n",
    "        },\n",
    "        'local_training': {\n",
    "            'name': 'ReweighLocalTrainingHandler',\n",
    "            'path': 'ibmfl.party.training.reweigh_local_training_handler'\n",
    "        },\n",
    "        'model': {\n",
    "            'name': 'SklearnSGDFLModel',\n",
    "            'path': 'ibmfl.model.sklearn_SGD_linear_fl_model',\n",
    "            'spec': {\n",
    "                'model_definition': 'examples/configs/sklearn_logclassification_rw/model_architecture.pickle',\n",
    "            }\n",
    "        },\n",
    "        'protocol_handler': {\n",
    "            'name': 'PartyProtocolHandler',\n",
    "            'path': 'ibmfl.party.party_protocol_handler'\n",
    "        }\n",
    "    }\n",
    "    return party_config\n"
   ]
  },
  {
   "cell_type": "markdown",
   "metadata": {},
   "source": [
    "### Running the Party\n",
    "\n",
    "Now, we invoke the `get_party_config` function to setup party and `start()` it.\n",
    "\n",
    "Finally, we register the party with the Aggregator."
   ]
  },
  {
   "cell_type": "code",
   "execution_count": 3,
   "metadata": {},
   "outputs": [
    {
     "name": "stdout",
     "output_type": "stream",
     "text": [
      "2021-02-04 13:31:04,612 | 1.0.3 | INFO | ibmfl.util.config                             | Getting Aggregator details from arguments.\n"
     ]
    },
    {
     "name": "stderr",
     "output_type": "stream",
     "text": [
      "Using TensorFlow backend.\n"
     ]
    },
    {
     "name": "stdout",
     "output_type": "stream",
     "text": [
      "2021-02-04 13:31:05,421 | 1.0.3 | INFO | ibmfl.util.config                             | No data config provided for this setup.\n",
      "2021-02-04 13:31:05,421 | 1.0.3 | INFO | ibmfl.util.data_handlers.adult_sklearn_data_handler | Loaded training data from examples/data/adult/random/data_party0.csv\n"
     ]
    },
    {
     "name": "stderr",
     "output_type": "stream",
     "text": [
      "/Users/anniek@ibm.com/Desktop/ffl/ibmfl/util/data_handlers/adult_sklearn_data_handler.py:156: SettingWithCopyWarning: \n",
      "A value is trying to be set on a copy of a slice from a DataFrame.\n",
      "Try using .loc[row_indexer,col_indexer] = value instead\n",
      "\n",
      "See the caveats in the documentation: http://pandas.pydata.org/pandas-docs/stable/user_guide/indexing.html#returning-a-view-versus-a-copy\n",
      "  training_dataset['sex'] = training_dataset['sex'].map({' Female': 0, ' Male': 1})\n",
      "/Users/anniek@ibm.com/Desktop/ffl/ibmfl/util/data_handlers/adult_sklearn_data_handler.py:158: SettingWithCopyWarning: \n",
      "A value is trying to be set on a copy of a slice from a DataFrame.\n",
      "Try using .loc[row_indexer,col_indexer] = value instead\n",
      "\n",
      "See the caveats in the documentation: http://pandas.pydata.org/pandas-docs/stable/user_guide/indexing.html#returning-a-view-versus-a-copy\n",
      "  {' Asian-Pac-Islander': 0, ' Amer-Indian-Eskimo': 0, ' Other': 0, ' Black': 0, ' White': 1})\n",
      "/Users/anniek@ibm.com/Desktop/ffl/ibmfl/util/data_handlers/adult_sklearn_data_handler.py:161: SettingWithCopyWarning: \n",
      "A value is trying to be set on a copy of a slice from a DataFrame.\n",
      "Try using .loc[row_indexer,col_indexer] = value instead\n",
      "\n",
      "See the caveats in the documentation: http://pandas.pydata.org/pandas-docs/stable/user_guide/indexing.html#returning-a-view-versus-a-copy\n",
      "  training_dataset['class'] = training_dataset['class'].map({' <=50K': 0, ' >50K': 1})\n",
      "/Users/anniek@ibm.com/Desktop/ffl/ibmfl/util/data_handlers/adult_sklearn_data_handler.py:163: SettingWithCopyWarning: \n",
      "A value is trying to be set on a copy of a slice from a DataFrame.\n",
      "Try using .loc[row_indexer,col_indexer] = value instead\n",
      "\n",
      "See the caveats in the documentation: http://pandas.pydata.org/pandas-docs/stable/user_guide/indexing.html#returning-a-view-versus-a-copy\n",
      "  training_dataset['age'] = training_dataset['age'].astype(int)\n",
      "/Users/anniek@ibm.com/Desktop/ffl/ibmfl/util/data_handlers/adult_sklearn_data_handler.py:164: SettingWithCopyWarning: \n",
      "A value is trying to be set on a copy of a slice from a DataFrame.\n",
      "Try using .loc[row_indexer,col_indexer] = value instead\n",
      "\n",
      "See the caveats in the documentation: http://pandas.pydata.org/pandas-docs/stable/user_guide/indexing.html#returning-a-view-versus-a-copy\n",
      "  training_dataset['education-num'] = training_dataset['education-num'].astype(int)\n",
      "/Users/anniek@ibm.com/Desktop/ffl/ibmfl/util/data_handlers/adult_sklearn_data_handler.py:169: SettingWithCopyWarning: \n",
      "A value is trying to be set on a copy of a slice from a DataFrame.\n",
      "Try using .loc[row_indexer,col_indexer] = value instead\n",
      "\n",
      "See the caveats in the documentation: http://pandas.pydata.org/pandas-docs/stable/user_guide/indexing.html#returning-a-view-versus-a-copy\n",
      "  training_dataset['age' + str(i)] = 0\n",
      "/Users/anniek@ibm.com/opt/anaconda3/lib/python3.7/site-packages/pandas/core/indexing.py:494: SettingWithCopyWarning: \n",
      "A value is trying to be set on a copy of a slice from a DataFrame.\n",
      "Try using .loc[row_indexer,col_indexer] = value instead\n",
      "\n",
      "See the caveats in the documentation: http://pandas.pydata.org/pandas-docs/stable/user_guide/indexing.html#returning-a-view-versus-a-copy\n",
      "  self.obj[item] = s\n",
      "/Users/anniek@ibm.com/Desktop/ffl/ibmfl/util/data_handlers/adult_sklearn_data_handler.py:188: SettingWithCopyWarning: \n",
      "A value is trying to be set on a copy of a slice from a DataFrame.\n",
      "Try using .loc[row_indexer,col_indexer] = value instead\n",
      "\n",
      "See the caveats in the documentation: http://pandas.pydata.org/pandas-docs/stable/user_guide/indexing.html#returning-a-view-versus-a-copy\n",
      "  training_dataset['ed6less'] = 0\n"
     ]
    },
    {
     "name": "stdout",
     "output_type": "stream",
     "text": [
      "2021-02-04 13:31:05,666 | 1.0.3 | INFO | ibmfl.connection.flask_connection             | RestSender initialized\n",
      "2021-02-04 13:31:05,671 | 1.0.3 | INFO | ibmfl.connection.flask_connection             | Receiver Initialized\n",
      "2021-02-04 13:31:05,672 | 1.0.3 | INFO | ibmfl.connection.flask_connection             | Initializing Flask application\n",
      "2021-02-04 13:31:05,676 | 1.0.3 | INFO | ibmfl.party.party                             | Party initialization successful\n",
      "2021-02-04 13:31:05,678 | 1.0.3 | INFO | ibmfl.party.party                             | Party start successful\n",
      "2021-02-04 13:31:05,679 | 1.0.3 | INFO | ibmfl.party.party                             | Registering party...\n",
      " * Serving Flask app \"ibmfl.connection.flask_connection\" (lazy loading)\n",
      " * Environment: production\n",
      "   WARNING: This is a development server. Do not use it in a production deployment.\n",
      "   Use a production WSGI server instead.\n",
      " * Debug mode: off\n",
      "2021-02-04 13:31:05,684 | 1.0.3 | INFO | werkzeug                                      |  * Running on http://127.0.0.1:8085/ (Press CTRL+C to quit)\n",
      "2021-02-04 13:31:05,706 | 1.0.3 | INFO | ibmfl.party.party                             | Registration Successful\n",
      "2021-02-04 13:34:05,708 | 1.0.3 | INFO | ibmfl.connection.flask_connection             | Request received for path :7\n",
      "2021-02-04 13:34:05,710 | 1.0.3 | INFO | ibmfl.party.party_protocol_handler            | received a async request\n",
      "2021-02-04 13:34:05,711 | 1.0.3 | INFO | ibmfl.party.party_protocol_handler            | finished async request\n",
      "2021-02-04 13:34:05,711 | 1.0.3 | INFO | ibmfl.party.party_protocol_handler            | Handling async request in a separate thread\n",
      "2021-02-04 13:34:05,713 | 1.0.3 | INFO | werkzeug                                      | 127.0.0.1 - - [04/Feb/2021 13:34:05] \"\u001b[37mPOST /7 HTTP/1.1\u001b[0m\" 200 -\n",
      "2021-02-04 13:34:05,715 | 1.0.3 | INFO | ibmfl.party.party_protocol_handler            | Received request from aggregator\n",
      "2021-02-04 13:34:05,717 | 1.0.3 | INFO | ibmfl.party.party_protocol_handler            | Received request in with message_type:  7\n",
      "2021-02-04 13:34:05,718 | 1.0.3 | INFO | ibmfl.party.party_protocol_handler            | Received request in PH 7\n",
      "2021-02-04 13:34:05,759 | 1.0.3 | INFO | ibmfl.party.training.local_training_handler   | No model update was provided.\n",
      "2021-02-04 13:34:05,760 | 1.0.3 | INFO | ibmfl.party.training.reweigh_local_training_handler | Local training started...\n",
      "2021-02-04 13:34:05,762 | 1.0.3 | INFO | ibmfl.model.sklearn_SGD_linear_fl_model       | Using default max_iter: 1\n",
      "2021-02-04 13:34:05,764 | 1.0.3 | INFO | ibmfl.model.sklearn_SGD_linear_fl_model       | Set warm_start as True\n",
      "2021-02-04 13:34:05,768 | 1.0.3 | ERROR | ibmfl.model.sklearn_SGD_linear_fl_model       | Invalid parameter epochs for estimator SGDClassifier(loss='log'). Check the list of available parameters with `estimator.get_params().keys()`.\n",
      "Traceback (most recent call last):\n",
      "  File \"/Users/anniek@ibm.com/Desktop/ffl/ibmfl/model/sklearn_SGD_linear_fl_model.py\", line 121, in fit_model\n",
      "    self.model.set_params(**{key: val})\n",
      "  File \"/Users/anniek@ibm.com/opt/anaconda3/lib/python3.7/site-packages/sklearn/linear_model/_stochastic_gradient.py\", line 116, in set_params\n",
      "    super().set_params(**kwargs)\n",
      "  File \"/Users/anniek@ibm.com/opt/anaconda3/lib/python3.7/site-packages/sklearn/base.py\", line 252, in set_params\n",
      "    (key, self))\n",
      "ValueError: Invalid parameter epochs for estimator SGDClassifier(loss='log'). Check the list of available parameters with `estimator.get_params().keys()`.\n",
      "2021-02-04 13:34:05,776 | 1.0.3 | ERROR | ibmfl.party.party_protocol_handler            | Error occurred while setting up model parameters\n",
      "Traceback (most recent call last):\n",
      "  File \"/Users/anniek@ibm.com/Desktop/ffl/ibmfl/model/sklearn_SGD_linear_fl_model.py\", line 121, in fit_model\n",
      "    self.model.set_params(**{key: val})\n",
      "  File \"/Users/anniek@ibm.com/opt/anaconda3/lib/python3.7/site-packages/sklearn/linear_model/_stochastic_gradient.py\", line 116, in set_params\n",
      "    super().set_params(**kwargs)\n",
      "  File \"/Users/anniek@ibm.com/opt/anaconda3/lib/python3.7/site-packages/sklearn/base.py\", line 252, in set_params\n",
      "    (key, self))\n",
      "ValueError: Invalid parameter epochs for estimator SGDClassifier(loss='log'). Check the list of available parameters with `estimator.get_params().keys()`.\n",
      "\n",
      "During handling of the above exception, another exception occurred:\n",
      "\n",
      "Traceback (most recent call last):\n",
      "  File \"/Users/anniek@ibm.com/Desktop/ffl/ibmfl/party/party_protocol_handler.py\", line 117, in handle_request\n",
      "    response = handler(data.get('payload'))\n",
      "  File \"/Users/anniek@ibm.com/Desktop/ffl/ibmfl/party/training/reweigh_local_training_handler.py\", line 93, in train\n",
      "    self.fl_model.fit_model(train_data, fit_params)\n",
      "  File \"/Users/anniek@ibm.com/Desktop/ffl/ibmfl/model/sklearn_SGD_linear_fl_model.py\", line 125, in fit_model\n",
      "    'Error occurred while setting up model parameters')\n",
      "ibmfl.exceptions.LocalTrainingException: Error occurred while setting up model parameters\n"
     ]
    }
   ],
   "source": [
    "from ibmfl.party.party import Party\n",
    "import tensorflow as tf\n",
    "\n",
    "party_config = get_party_config(party_id)\n",
    "party = Party(config_dict=party_config)\n",
    "party.start()\n",
    "party.register_party()\n",
    "party.proto_handler.is_private = False  ## allows sharing of metrics with aggregator"
   ]
  },
  {
   "cell_type": "markdown",
   "metadata": {},
   "source": [
    "## Register All Parties Before Starting Training\n",
    "\n",
    "Now we have started and registered this Party. Next, we will start and register rest of the parties. Once all the Parties have registered we will go back to the Aggregator's notebook to start training."
   ]
  },
  {
   "cell_type": "markdown",
   "metadata": {},
   "source": [
    "## Results\n",
    "\n",
    "We utilize these methods in our paper, and share below our experimental results for Local Reweighing and Federated Prejudice Remover on the Adult Dataset. Using 8 parties and a global testing set, we find both methods to be effective in reducing bias as measured by these four fairness metrics. Local reweighing is particularly effective.\n",
    "\n",
    "<img src=\"../images/adult8P.png\" width=\"720\"/>\n",
    "<figcaption><center>Fairness Metrics for Local Reweighing and Federated Prejudice Remover on 8 Party Adult Dataset Experiment</a></center></figcaption>"
   ]
  },
  {
   "cell_type": "markdown",
   "metadata": {},
   "source": [
    "## Shut Down\n",
    "\n",
    "Invoke the `stop()` method on each of the network participants to terminate the service."
   ]
  },
  {
   "cell_type": "code",
   "execution_count": 9,
   "metadata": {},
   "outputs": [
    {
     "name": "stdout",
     "output_type": "stream",
     "text": [
      "2020-10-03 23:07:38,861 -STD ibmfl.connection.flask_connection - INFO - Stopping Receiver and Sender\n",
      "2020-10-03 23:07:38,867 -STD werkzeug - INFO - 127.0.0.1 - - [03/Oct/2020 23:07:38] \"\u001b[37mPOST /shutdown HTTP/1.1\u001b[0m\" 200 -\n",
      "2020-10-03 23:07:38,869 -STD ibmfl.party.party - INFO - Party stop successful\n"
     ]
    }
   ],
   "source": [
    "party.stop()"
   ]
  }
 ],
 "metadata": {
  "kernelspec": {
   "display_name": "Python 3",
   "language": "python",
   "name": "python3"
  },
  "language_info": {
   "codemirror_mode": {
    "name": "ipython",
    "version": 3
   },
   "file_extension": ".py",
   "mimetype": "text/x-python",
   "name": "python",
   "nbconvert_exporter": "python",
   "pygments_lexer": "ipython3",
   "version": "3.6.12"
  }
 },
 "nbformat": 4,
 "nbformat_minor": 4
}
